{
 "cells": [
  {
   "cell_type": "markdown",
   "id": "b120ed9f-9f1a-4b1c-817d-74bdd6bcc8eb",
   "metadata": {},
   "source": [
    "# Data Science Tools and Ecosystem\n"
   ]
  },
  {
   "cell_type": "markdown",
   "id": "142ba0c7-888a-4013-8e71-2f5ea6519533",
   "metadata": {},
   "source": [
    "### In this notebook, Data Science Tools and Ecosystem are summarized."
   ]
  },
  {
   "cell_type": "markdown",
   "id": "ad2399aa-256b-44a3-bff3-68bee5b37890",
   "metadata": {},
   "source": [
    "#### Some of the popular languages that Data Scientists use are:"
   ]
  },
  {
   "cell_type": "markdown",
   "id": "ca376283-5953-441d-9133-f3aad0a385da",
   "metadata": {},
   "source": [
    "1. Python\n",
    "2. R\n",
    "3. SQL\n",
    "4. Java"
   ]
  },
  {
   "cell_type": "markdown",
   "id": "8289585a-42d3-4285-a9e7-d3284608c73a",
   "metadata": {},
   "source": [
    "### Some of the commonly used libraries used by Data Scientists include:"
   ]
  },
  {
   "cell_type": "markdown",
   "id": "b47d99e4-a886-48e4-8c35-4e930091bceb",
   "metadata": {},
   "source": [
    "1. Panda\n",
    "2. NumPy\n",
    "3. Matplotlib\n",
    "4. Seaborn"
   ]
  },
  {
   "cell_type": "markdown",
   "id": "d27f3923-9261-4607-b01b-76fb2d03d1be",
   "metadata": {},
   "source": [
    "|Data Science Tools|\n",
    "|------------------|\n",
    "|Anaconda|\n",
    "|Jupyter Notebooks|\n",
    "|Model Asset eXchange|\n",
    "|GitHub|"
   ]
  },
  {
   "cell_type": "markdown",
   "id": "b66c353e-2fd8-476f-8b11-66a7f04a03ed",
   "metadata": {},
   "source": [
    "### Below are a few examples of evaluating arithmetic expressions in Python."
   ]
  },
  {
   "cell_type": "code",
   "execution_count": 60,
   "id": "234564ba-e8e8-4177-a683-2e87025805e0",
   "metadata": {},
   "outputs": [
    {
     "name": "stdout",
     "output_type": "stream",
     "text": [
      "17\n"
     ]
    }
   ],
   "source": [
    "x=(3*4)+5 \n",
    "# This is a simple arithmetic expression to multiply then add integers. \n",
    "print(x) "
   ]
  },
  {
   "cell_type": "code",
   "execution_count": 62,
   "id": "9a43985a-7fa5-42b2-a52f-e5f2e5990e57",
   "metadata": {},
   "outputs": [
    {
     "name": "stdout",
     "output_type": "stream",
     "text": [
      "3.3333333333333335\n"
     ]
    }
   ],
   "source": [
    "minutes = 200 \n",
    "hours = minutes / 60 \n",
    "# This will convert 200 minutes to hours by dividing by 60. \n",
    "print(hours) "
   ]
  },
  {
   "cell_type": "code",
   "execution_count": 64,
   "id": "d091d008-ec4b-49ae-a315-097609c3e6f7",
   "metadata": {},
   "outputs": [
    {
     "name": "stdout",
     "output_type": "stream",
     "text": [
      "3 hrs and 20 mins\n"
     ]
    }
   ],
   "source": [
    "minutes = 200 \n",
    "# This will convert 200 minutes into hours and minutes as opposed to hours with decimal. \n",
    "mins = minutes % 60 \n",
    "hrsdecimal = (minutes-mins)/60 \n",
    "hrs = round(hrsdecimal) \n",
    "display = \"{} hrs and {} mins\".format(hrs, mins) \n",
    "print(display) "
   ]
  },
  {
   "cell_type": "markdown",
   "id": "6fcaaab3-de6e-4f15-b052-be61b2299eff",
   "metadata": {},
   "source": [
    "**Objectives:**\n",
    "- create numbered lists of languages and libraries\n",
    "- create headings in different sizes using markdowns\n",
    "- create a table with a title\n",
    "- evaluate arithmetic with code"
   ]
  },
  {
   "cell_type": "markdown",
   "id": "b4842cf3-4b63-42ef-ba6e-ccafeb19305f",
   "metadata": {},
   "source": [
    "## Author\n",
    "#### Julie Brubacher"
   ]
  },
  {
   "cell_type": "code",
   "execution_count": null,
   "id": "e02e6996-eca5-4ce9-8f29-e80949437cdb",
   "metadata": {},
   "outputs": [],
   "source": []
  }
 ],
 "metadata": {
  "kernelspec": {
   "display_name": "Python 3 (ipykernel)",
   "language": "python",
   "name": "python3"
  },
  "language_info": {
   "codemirror_mode": {
    "name": "ipython",
    "version": 3
   },
   "file_extension": ".py",
   "mimetype": "text/x-python",
   "name": "python",
   "nbconvert_exporter": "python",
   "pygments_lexer": "ipython3",
   "version": "3.12.4"
  }
 },
 "nbformat": 4,
 "nbformat_minor": 5
}
